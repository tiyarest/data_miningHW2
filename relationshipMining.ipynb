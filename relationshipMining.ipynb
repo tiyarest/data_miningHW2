{
 "cells": [
  {
   "cell_type": "code",
   "execution_count": 78,
   "metadata": {},
   "outputs": [],
   "source": [
    "import csv;\n",
    "import matplotlib.pyplot as plt\n",
    "import numpy as np\n",
    "import pandas as pd\n",
    "lift =[]\n",
    "KULC =[]\n",
    "IR = []\n",
    "support = []"
   ]
  },
  {
   "cell_type": "markdown",
   "metadata": {},
   "source": [
    "加载数据集,数据集包括（国家，酒的评分），酒评分我们分为了5级：\n",
    "0：0-19分 1：20-39分 2：40-59分 3：60-79分 4：80-99分"
   ]
  },
  {
   "cell_type": "code",
   "execution_count": 79,
   "metadata": {},
   "outputs": [],
   "source": [
    "def load_data_set():\n",
    "    csv_file = csv.reader(open('winemag-data-130k-v2.csv', encoding='utf-8'))\n",
    "    for row in csv_file:\n",
    "        llist = []\n",
    "        if(row[4]=='points'):\n",
    "            continue\n",
    "        if(row[1]!=\"\"):\n",
    "            llist.append(row[1])\n",
    "            if(row[4]!=\"\"):\n",
    "                llist.append(int(float(row[4])/20))\n",
    "        data_set.append(llist)\n",
    "    return data_set"
   ]
  },
  {
   "cell_type": "markdown",
   "metadata": {},
   "source": [
    "通过扫描数据集创建频繁的候选1项集C1"
   ]
  },
  {
   "cell_type": "code",
   "execution_count": 80,
   "metadata": {},
   "outputs": [],
   "source": [
    "def create_C1(data_set):\n",
    "    C1 = set()\n",
    "    for t in data_set:\n",
    "        for item in t:\n",
    "            item_set = frozenset([item])\n",
    "            C1.add(item_set)\n",
    "    return C1"
   ]
  },
  {
   "cell_type": "markdown",
   "metadata": {},
   "source": [
    "判断常用候选k项集是否满足Apriori属性"
   ]
  },
  {
   "cell_type": "code",
   "execution_count": 81,
   "metadata": {},
   "outputs": [],
   "source": [
    "def is_apriori(Ck_item, Lksub1):\n",
    "    for item in Ck_item:\n",
    "        sub_Ck = Ck_item - frozenset([item])\n",
    "        if sub_Ck not in Lksub1:\n",
    "            return False\n",
    "    return True"
   ]
  },
  {
   "cell_type": "markdown",
   "metadata": {},
   "source": [
    "创建ck，一个包含所有常见的候选k项集的集合"
   ]
  },
  {
   "cell_type": "code",
   "execution_count": 82,
   "metadata": {},
   "outputs": [],
   "source": [
    "def create_Ck(Lksub1, k):\n",
    "    Ck = set()\n",
    "    len_Lksub1 = len(Lksub1)\n",
    "    list_Lksub1 = list(Lksub1)\n",
    "    for i in range(len_Lksub1):\n",
    "        for j in range(1, len_Lksub1):\n",
    "            l1 = list(list_Lksub1[i])\n",
    "            l2 = list(list_Lksub1[j])\n",
    "            l1.sort()\n",
    "            l2.sort()\n",
    "            if l1[0:k-2] == l2[0:k-2]:\n",
    "                Ck_item = list_Lksub1[i] | list_Lksub1[j]\n",
    "                # pruning\n",
    "                if is_apriori(Ck_item, Lksub1):\n",
    "                    Ck.add(Ck_item)\n",
    "    return Ck"
   ]
  },
  {
   "cell_type": "markdown",
   "metadata": {},
   "source": [
    "通过从ck执行删除策略生成Lk。"
   ]
  },
  {
   "cell_type": "code",
   "execution_count": 83,
   "metadata": {},
   "outputs": [],
   "source": [
    "def generate_Lk_by_Ck(data_set, Ck, min_support, support_data):\n",
    "    Lk = set()\n",
    "    item_count = {}\n",
    "    for t in data_set:\n",
    "        for item in Ck:\n",
    "            if item.issubset(t):\n",
    "                if item not in item_count:\n",
    "                    item_count[item] = 1\n",
    "                else:\n",
    "                    item_count[item] += 1\n",
    "    t_num = float(len(data_set))\n",
    "    for item in item_count:\n",
    "        if (item_count[item] / t_num) >= min_support:\n",
    "            Lk.add(item)\n",
    "            support_data[item] = item_count[item] / t_num\n",
    "    return Lk"
   ]
  },
  {
   "cell_type": "markdown",
   "metadata": {},
   "source": [
    "生成所有的频繁项集。"
   ]
  },
  {
   "cell_type": "code",
   "execution_count": 84,
   "metadata": {},
   "outputs": [],
   "source": [
    "def generate_L(data_set, k, min_support):\n",
    "    support_data = {}\n",
    "    C1 = create_C1(data_set)\n",
    "    L1 = generate_Lk_by_Ck(data_set, C1, min_support, support_data)\n",
    "    Lksub1 = L1.copy()\n",
    "    L = []\n",
    "    L.append(Lksub1)\n",
    "    for i in range(2, k+1):\n",
    "        Ci = create_Ck(Lksub1, i)\n",
    "        Li = generate_Lk_by_Ck(data_set, Ci, min_support, support_data)\n",
    "        Lksub1 = Li.copy()\n",
    "        L.append(Lksub1)\n",
    "    return L, support_data"
   ]
  },
  {
   "cell_type": "markdown",
   "metadata": {},
   "source": [
    "生成关联,并对规则进行评价"
   ]
  },
  {
   "cell_type": "code",
   "execution_count": 85,
   "metadata": {},
   "outputs": [],
   "source": [
    "def generate_big_rules(L, support_data, min_conf):\n",
    "    big_rule_list = []\n",
    "    sub_set_list = []\n",
    "    for i in range(0, len(L)):\n",
    "        for freq_set in L[i]:\n",
    "            for sub_set in sub_set_list:\n",
    "                if sub_set.issubset(freq_set):\n",
    "                    conf = support_data[freq_set] / support_data[freq_set - sub_set]\n",
    "                    big_rule = (freq_set - sub_set, sub_set, conf)\n",
    "                    if conf >= min_conf and big_rule not in big_rule_list:\n",
    "                        lift.append(support_data[freq_set]/(support_data[sub_set]*support_data[freq_set-sub_set]))\n",
    "                        KULC.append((support_data[freq_set]/support_data[sub_set]+support_data[freq_set]/support_data[freq_set-sub_set])/2)\n",
    "                        IR.append((support_data[freq_set]/support_data[freq_set-sub_set])/support_data[freq_set]/support_data[sub_set])\n",
    "                        big_rule_list.append(big_rule)\n",
    "            sub_set_list.append(freq_set)\n",
    "    print(lift)\n",
    "    print(KULC)\n",
    "    print(IR)\n",
    "    return big_rule_list"
   ]
  },
  {
   "cell_type": "markdown",
   "metadata": {},
   "source": [
    "主函数"
   ]
  },
  {
   "cell_type": "code",
   "execution_count": 86,
   "metadata": {},
   "outputs": [],
   "source": [
    "if __name__ == \"__main__\":\n",
    "    data_set = []\n",
    "    data_set=load_data_set()"
   ]
  },
  {
   "cell_type": "code",
   "execution_count": 87,
   "metadata": {},
   "outputs": [
    {
     "name": "stdout",
     "output_type": "stream",
     "text": [
      "[1.0005578728307005, 1.0002689740262984, 1.0004264707461856]\n",
      "[0.7097578223021727, 0.5848338445132564, 0.5751003189062628]\n",
      "[2.386119399810623, 5.886618013274712, 6.655734481436961]\n",
      "==================================================\n",
      "frequent 1-itemsets\t\tsupport\n",
      "==================================================\n",
      "frozenset({'US'}) 0.41935508690400164\n",
      "frozenset({4}) 0.9993690900277754\n",
      "frozenset({'France'}) 0.16998407337021335\n",
      "frozenset({'Italy'}) 0.15034122996668486\n",
      "==================================================\n",
      "frequent 2-itemsets\t\tsupport\n",
      "==================================================\n",
      "frozenset({'US', 4}) 0.4193243108077956\n",
      "frozenset({'France', 4}) 0.1699225211778012\n",
      "frozenset({'Italy', 4}) 0.1503104538704788\n"
     ]
    }
   ],
   "source": [
    "    L, support_data = generate_L(data_set, k=2, min_support=0.1)\n",
    "    big_rules_list = generate_big_rules(L, support_data, min_conf=0.7)\n",
    "    for Lk in L:\n",
    "        print (\"=\"*50)\n",
    "        print (\"frequent \" + str(len(list(Lk)[0])) + \"-itemsets\\t\\tsupport\")\n",
    "        print(\"=\" * 50)\n",
    "        for freq_set in Lk:\n",
    "            print (freq_set, support_data[freq_set])"
   ]
  },
  {
   "cell_type": "code",
   "execution_count": 88,
   "metadata": {},
   "outputs": [
    {
     "name": "stdout",
     "output_type": "stream",
     "text": [
      "Big Rules\n",
      "frozenset({'US'}) => frozenset({4}) conf:  0.9999266108909438\n",
      "lift： 1.0005578728307005\n",
      "KULC： 0.7097578223021727\n",
      "IR： 0.7097578223021727\n",
      "frozenset({'France'}) => frozenset({4}) conf:  0.9996378943556784\n",
      "lift： 1.0002689740262984\n",
      "KULC： 0.5848338445132564\n",
      "IR： 0.5848338445132564\n",
      "frozenset({'Italy'}) => frozenset({4}) conf:  0.9997952917093144\n",
      "lift： 1.0004264707461856\n",
      "KULC： 0.5751003189062628\n",
      "IR： 0.5751003189062628\n"
     ]
    }
   ],
   "source": [
    "    print\n",
    "    print (\"Big Rules\")\n",
    "    i=0\n",
    "    for item in big_rules_list:\n",
    "        print(item[0], \"=>\", item[1], \"conf: \", item[2])\n",
    "        support.append(item[2])\n",
    "        print(\"lift：\",lift[i])\n",
    "        print(\"KULC：\", KULC[i])\n",
    "        print(\"IR：\", KULC[i])\n",
    "        i=i+1"
   ]
  },
  {
   "cell_type": "markdown",
   "metadata": {},
   "source": [
    "关联规则评价\n",
    "1、lift值=1,说明两个条件没有任何关联,如果<1,说明A条件(或者说A事件的发生)与B事件是相斥的, 一般在数据挖掘中当提升度大于3时,我们才承认挖掘出的关联规则是有价值的。\n",
    "2.KULC=0.5*P(B|A)+0.5*P(A|B)\n",
    "该公式表示 将两种事件作为条件的置信度的均值,避开了支持度的计算,因此不会受零和事务的影响。\n",
    "IR=P(B|A)/P(A|B) 指示事务的关联关系平衡状态"
   ]
  },
  {
   "cell_type": "markdown",
   "metadata": {},
   "source": [
    "可视化"
   ]
  },
  {
   "cell_type": "code",
   "execution_count": 89,
   "metadata": {},
   "outputs": [
    {
     "data": {
      "image/png": "[encoded data removed]",
      "text/plain": [
       "<Figure size 432x288 with 1 Axes>"
      ]
     },
     "metadata": {
      "needs_background": "light"
     },
     "output_type": "display_data"
    }
   ],
   "source": [
    "    name_list = ['Italy =>4', 'US => 4', 'France=>4']\n",
    "    total_width, n = 0.4, 4\n",
    "    width = total_width / n\n",
    "    x = list(range(len(support)))\n",
    "    plt.bar(x,support,width=width,label = \"support\",fc='y')\n",
    "    for i in range(len(x)):\n",
    "        x[i] = x[i] + width\n",
    "    plt.bar(x, lift, width=width, label=\"lift\",fc='r',tick_label=name_list)\n",
    "    for i in range(len(x)):\n",
    "        x[i] = x[i] + width\n",
    "    plt.bar(x, KULC, width=width, label=\"KULC\",fc='blue')\n",
    "    for i in range(len(x)):\n",
    "        x[i] = x[i] + width\n",
    "    plt.bar(x, IR, width=width, label=\"IR\",fc='g')\n",
    "    plt.legend()\n",
    "    plt.show()"
   ]
  },
  {
   "cell_type": "code",
   "execution_count": null,
   "metadata": {},
   "outputs": [],
   "source": []
  },
  {
   "cell_type": "code",
   "execution_count": null,
   "metadata": {},
   "outputs": [],
   "source": []
  }
 ],
 "metadata": {
  "kernelspec": {
   "display_name": "Python 3",
   "language": "python",
   "name": "python3"
  },
  "language_info": {
   "codemirror_mode": {
    "name": "ipython",
    "version": 3
   },
   "file_extension": ".py",
   "mimetype": "text/x-python",
   "name": "python",
   "nbconvert_exporter": "python",
   "pygments_lexer": "ipython3",
   "version": "3.7.0"
  }
 },
 "nbformat": 4,
 "nbformat_minor": 2
}
